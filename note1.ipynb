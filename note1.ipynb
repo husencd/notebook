{
 "cells": [
  {
   "cell_type": "markdown",
   "metadata": {},
   "source": [
    "### 热身：复习Jupyter Notebook的使用方法"
   ]
  },
  {
   "cell_type": "code",
   "execution_count": null,
   "metadata": {
    "ExecuteTime": {
     "end_time": "2019-07-05T03:18:20.974849Z",
     "start_time": "2019-07-05T03:18:20.966849Z"
    }
   },
   "outputs": [],
   "source": [
    "print('你好，世界！')\n",
    "print('Hello, world!')"
   ]
  },
  {
   "cell_type": "code",
   "execution_count": null,
   "metadata": {
    "ExecuteTime": {
     "end_time": "2019-07-05T03:20:04.154441Z",
     "start_time": "2019-07-05T03:20:04.142440Z"
    }
   },
   "outputs": [],
   "source": [
    "5+2\n",
    "# 5-2"
   ]
  },
  {
   "cell_type": "code",
   "execution_count": null,
   "metadata": {
    "ExecuteTime": {
     "end_time": "2019-07-05T03:21:57.595185Z",
     "start_time": "2019-07-05T03:21:57.587184Z"
    }
   },
   "outputs": [],
   "source": [
    "print(5+2)\n",
    "print(5-2)\n",
    "print(5*2)\n",
    "print(5/2)\n",
    "print(5//2)\n",
    "print(5%2)"
   ]
  },
  {
   "cell_type": "code",
   "execution_count": null,
   "metadata": {
    "ExecuteTime": {
     "end_time": "2019-07-05T06:45:48.909048Z",
     "start_time": "2019-07-05T06:45:48.905072Z"
    }
   },
   "outputs": [],
   "source": [
    "def introduce(name, age):\n",
    "    print(\"Hello, my name is %s. I'm %d years old.\" % (name, age))"
   ]
  },
  {
   "cell_type": "code",
   "execution_count": null,
   "metadata": {
    "ExecuteTime": {
     "end_time": "2019-07-05T06:51:28.917250Z",
     "start_time": "2019-07-05T06:51:28.909250Z"
    }
   },
   "outputs": [],
   "source": [
    "introduce('xiaoming', 12)\n",
    "introduce('小红', 10)"
   ]
  },
  {
   "cell_type": "code",
   "execution_count": null,
   "metadata": {},
   "outputs": [],
   "source": [
    "def introduce(name, age):\n",
    "    s = \"Hello, my name is %s. I'm %d years old.\" % (name, age)\n",
    "    return s\n",
    "\n",
    "s = introduce('xiaoming', 12)\n",
    "print(s)\n",
    "\n",
    "print(introduce('小红', 10))"
   ]
  },
  {
   "cell_type": "markdown",
   "metadata": {},
   "source": [
    "##### 作业：实现一个函数，输入a和b，输出a+b，如输入1，2，输出1+2=3"
   ]
  },
  {
   "cell_type": "code",
   "execution_count": null,
   "metadata": {},
   "outputs": [],
   "source": [
    "def add(a, b):\n",
    "    print('%d + %d = %d' % (a, b, a+b)) \n",
    "\n",
    "add(2, 3)"
   ]
  },
  {
   "cell_type": "markdown",
   "metadata": {},
   "source": [
    "##### 作业：计算100以内的奇数之和"
   ]
  },
  {
   "cell_type": "code",
   "execution_count": 1,
   "metadata": {},
   "outputs": [
    {
     "name": "stdout",
     "output_type": "stream",
     "text": [
      "2500\n"
     ]
    }
   ],
   "source": [
    "sum = 0\n",
    "for i in range(1, 100, 1):\n",
    "    if i % 2 == 1:\n",
    "        sum = sum + i\n",
    "print(sum)"
   ]
  },
  {
   "cell_type": "markdown",
   "metadata": {},
   "source": [
    "##### 如何用while循环来实现？"
   ]
  },
  {
   "cell_type": "code",
   "execution_count": null,
   "metadata": {},
   "outputs": [],
   "source": []
  },
  {
   "cell_type": "markdown",
   "metadata": {},
   "source": [
    "### 1. 图像的基本操作\n",
    "#### 1.1 导入一些需要的库"
   ]
  },
  {
   "cell_type": "code",
   "execution_count": null,
   "metadata": {
    "ExecuteTime": {
     "end_time": "2019-07-05T07:24:06.641138Z",
     "start_time": "2019-07-05T07:24:06.216687Z"
    }
   },
   "outputs": [],
   "source": [
    "import numpy as np  # 操作数组\n",
    "import cv2  # 操作图像\n",
    "import matplotlib.pyplot as plt  # 画图"
   ]
  },
  {
   "cell_type": "markdown",
   "metadata": {},
   "source": [
    "#### 1.2 读取图像"
   ]
  },
  {
   "cell_type": "code",
   "execution_count": null,
   "metadata": {
    "ExecuteTime": {
     "end_time": "2019-07-05T07:24:25.058798Z",
     "start_time": "2019-07-05T07:24:24.357671Z"
    }
   },
   "outputs": [],
   "source": [
    "img = cv2.imread('1.png')[..., ::-1]\n",
    "plt.imshow(img)\n",
    "plt.show()"
   ]
  },
  {
   "cell_type": "code",
   "execution_count": null,
   "metadata": {
    "ExecuteTime": {
     "end_time": "2019-07-01T01:01:47.699888Z",
     "start_time": "2019-07-01T01:01:47.694901Z"
    }
   },
   "outputs": [],
   "source": [
    "print(img)"
   ]
  },
  {
   "cell_type": "code",
   "execution_count": null,
   "metadata": {
    "ExecuteTime": {
     "end_time": "2019-07-01T01:01:47.711857Z",
     "start_time": "2019-07-01T01:01:47.701882Z"
    }
   },
   "outputs": [],
   "source": [
    "print(img.shape)\n",
    "print(img[0, 0])"
   ]
  },
  {
   "cell_type": "markdown",
   "metadata": {},
   "source": [
    "#### 1.3 保存图像"
   ]
  },
  {
   "cell_type": "code",
   "execution_count": null,
   "metadata": {
    "ExecuteTime": {
     "end_time": "2019-07-05T07:35:50.295245Z",
     "start_time": "2019-07-05T07:35:50.162372Z"
    }
   },
   "outputs": [],
   "source": [
    "cv2.imwrite('2.png', img[..., ::-1])"
   ]
  },
  {
   "cell_type": "markdown",
   "metadata": {},
   "source": [
    "#### 1.4 图像的放大与缩小"
   ]
  },
  {
   "cell_type": "code",
   "execution_count": null,
   "metadata": {
    "ExecuteTime": {
     "end_time": "2019-07-01T01:01:48.445895Z",
     "start_time": "2019-07-01T01:01:47.738783Z"
    },
    "scrolled": true
   },
   "outputs": [],
   "source": [
    "img1 = cv2.resize(img, (300//2, 310//2))\n",
    "img2 = cv2.resize(img, (300*2, 310*2))\n",
    "img3 = cv2.resize(img, (100, 200))\n",
    "img4 = cv2.resize(img, (200, 100))\n",
    "\n",
    "cv2.imwrite('img1.png', img1[..., ::-1])\n",
    "cv2.imwrite('img2.png', img2[..., ::-1])\n",
    "\n",
    "cv2.imwrite('img3.png', img3[..., ::-1])\n",
    "cv2.imwrite('img4.png', img4[..., ::-1])\n",
    "\n",
    "plt.imshow(img1)\n",
    "plt.show()\n",
    "plt.imshow(img2)\n",
    "plt.show()\n",
    "plt.imshow(img3)\n",
    "plt.show()\n",
    "plt.imshow(img4)\n",
    "plt.show()"
   ]
  },
  {
   "cell_type": "markdown",
   "metadata": {},
   "source": [
    "#### 1.5 图像的颜色变换（彩色图到灰度图）"
   ]
  },
  {
   "cell_type": "code",
   "execution_count": null,
   "metadata": {
    "ExecuteTime": {
     "end_time": "2019-07-01T01:01:48.982533Z",
     "start_time": "2019-07-01T01:01:48.448891Z"
    }
   },
   "outputs": [],
   "source": [
    "img = cv2.imread('1.png')[..., ::-1]\n",
    "img_gray = cv2.cvtColor(img, cv2.COLOR_RGB2GRAY)\n",
    "plt.imshow(img_gray, cmap='gray')\n",
    "plt.show()\n",
    "\n",
    "img_rgb = cv2.cvtColor(img_gray, cv2.COLOR_GRAY2RGB)\n",
    "plt.imshow(img_rgb)\n",
    "plt.show()\n",
    "\n",
    "print(img_gray.shape)\n",
    "print(img_rgb.shape)\n",
    "\n",
    "print(img[0, 0])\n",
    "print(img_gray[0, 0])\n",
    "print(img_rgb[0, 0])"
   ]
  },
  {
   "cell_type": "markdown",
   "metadata": {},
   "source": [
    "#### 1.6 图像翻转"
   ]
  },
  {
   "cell_type": "code",
   "execution_count": null,
   "metadata": {
    "ExecuteTime": {
     "end_time": "2019-07-05T07:39:12.732766Z",
     "start_time": "2019-07-05T07:39:11.887257Z"
    },
    "scrolled": true
   },
   "outputs": [],
   "source": [
    "img = cv2.imread('1.png')[..., ::-1]\n",
    "# 水平翻转\n",
    "img1 = cv2.flip(img, 1)\n",
    "# 垂直翻转\n",
    "img2 = cv2.flip(img, 0)\n",
    "# 水平垂直翻转\n",
    "img3 = cv2.flip(img, -1)\n",
    "\n",
    "plt.imshow(img)\n",
    "plt.show()\n",
    "plt.imshow(img1)\n",
    "plt.show()\n",
    "plt.imshow(img2)\n",
    "plt.show()\n",
    "plt.imshow(img3)\n",
    "plt.show()"
   ]
  },
  {
   "cell_type": "code",
   "execution_count": null,
   "metadata": {
    "ExecuteTime": {
     "end_time": "2019-07-05T07:39:57.527835Z",
     "start_time": "2019-07-05T07:39:57.335811Z"
    }
   },
   "outputs": [],
   "source": [
    "# 多幅图像画在一起\n",
    "plt.subplot(2, 2, 1)\n",
    "plt.imshow(img)\n",
    "plt.title('img')\n",
    "plt.axis('off')\n",
    "\n",
    "plt.subplot(2, 2, 2)\n",
    "plt.imshow(img1)\n",
    "plt.title('img1')\n",
    "plt.axis('off')\n",
    "\n",
    "plt.subplot(2, 2, 3)\n",
    "plt.imshow(img2)\n",
    "plt.title('img2')\n",
    "plt.axis('off')\n",
    "\n",
    "plt.subplot(2, 2, 4)\n",
    "plt.imshow(img3)\n",
    "plt.title('img3')\n",
    "plt.axis('off')\n",
    "\n",
    "plt.show()"
   ]
  },
  {
   "cell_type": "markdown",
   "metadata": {},
   "source": [
    "#### 1.7 用Opencv画人脸矩形框和人脸特征点"
   ]
  },
  {
   "cell_type": "code",
   "execution_count": null,
   "metadata": {
    "ExecuteTime": {
     "end_time": "2019-07-05T07:43:08.658317Z",
     "start_time": "2019-07-05T07:43:08.054986Z"
    }
   },
   "outputs": [],
   "source": [
    "img = cv2.imread('1.png')[..., ::-1]\n",
    "img = img.copy()\n",
    "\n",
    "cv2.rectangle(img, (85, 106), (220, 232), (255, 0, 0), 3)\n",
    "plt.imshow(img)\n",
    "plt.show()\n",
    "\n",
    "cv2.circle(img, (191, 133), 3, (0, 0, 255), -1)\n",
    "plt.imshow(img)\n",
    "plt.show()\n",
    "\n",
    "cv2.circle(img, (143, 135), 3, (0, 0, 255), -1)\n",
    "plt.imshow(img)\n",
    "plt.show()\n",
    "\n",
    "cv2.imwrite('3.png', img[..., ::-1])"
   ]
  },
  {
   "cell_type": "markdown",
   "metadata": {},
   "source": [
    "##### 作业：用cv2.line实现cv2.rectangle"
   ]
  },
  {
   "cell_type": "code",
   "execution_count": null,
   "metadata": {
    "ExecuteTime": {
     "end_time": "2019-07-01T01:01:50.717765Z",
     "start_time": "2019-07-01T01:01:50.558954Z"
    },
    "scrolled": true
   },
   "outputs": [],
   "source": [
    "# 作业：用cv2.line实现cv2.rectangle\n",
    "img = cv2.imread('1.png')[..., ::-1]\n",
    "img = img.copy()\n",
    "\n",
    "cv2.line(img, (85, 106), (220, 106), (255, 0, 0), 3)\n",
    "\n",
    "plt.imshow(img)\n",
    "plt.show()"
   ]
  },
  {
   "cell_type": "code",
   "execution_count": null,
   "metadata": {},
   "outputs": [],
   "source": []
  }
 ],
 "metadata": {
  "kernelspec": {
   "display_name": "Python 3",
   "language": "python",
   "name": "python3"
  },
  "language_info": {
   "codemirror_mode": {
    "name": "ipython",
    "version": 3
   },
   "file_extension": ".py",
   "mimetype": "text/x-python",
   "name": "python",
   "nbconvert_exporter": "python",
   "pygments_lexer": "ipython3",
   "version": "3.6.9"
  }
 },
 "nbformat": 4,
 "nbformat_minor": 2
}
