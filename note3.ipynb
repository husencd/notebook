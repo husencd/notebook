{
 "cells": [
  {
   "cell_type": "code",
   "execution_count": null,
   "metadata": {},
   "outputs": [],
   "source": [
    "import os.path as osp\n",
    "import numpy as np\n",
    "import cv2\n",
    "import matplotlib.pyplot as plt\n",
    "import dlib\n",
    "\n",
    "CUR_DIR = osp.abspath('')\n",
    "DLIB_DIR = osp.join(CUR_DIR, '..', 'face', 'lib', 'dlib')"
   ]
  },
  {
   "cell_type": "code",
   "execution_count": null,
   "metadata": {},
   "outputs": [],
   "source": [
    "img_path = 'boys.png'\n",
    "img = cv2.imread(img_path)[..., ::-1]\n",
    "plt.imshow(img)\n",
    "plt.show()"
   ]
  },
  {
   "cell_type": "code",
   "execution_count": null,
   "metadata": {},
   "outputs": [],
   "source": [
    "detector = dlib.get_frontal_face_detector()\n",
    "\n",
    "faces = detector(img, 1)\n",
    "print(\"一共有 %d 张人脸\" % len(faces))\n",
    "for face in faces:\n",
    "    print(face.left(), face.top(), face.right(), face.bottom())"
   ]
  },
  {
   "cell_type": "code",
   "execution_count": null,
   "metadata": {},
   "outputs": [],
   "source": [
    "img_path = 'boys.png'\n",
    "image = cv2.imread(img_path)[..., ::-1]\n",
    "img = image.copy()\n",
    "\n",
    "for face in faces:\n",
    "    cv2.rectangle(img, (face.left(), face.top()), (face.right(), face.bottom()), (0, 0, 255), 5)\n",
    "plt.imshow(img)\n",
    "plt.show()"
   ]
  },
  {
   "cell_type": "markdown",
   "metadata": {},
   "source": [
    "##### 抠图，显示人脸区域图像块"
   ]
  },
  {
   "cell_type": "code",
   "execution_count": null,
   "metadata": {},
   "outputs": [],
   "source": [
    "for face in faces:\n",
    "    x1, y1, x2, y2 = face.left(), face.top(), face.right(), face.bottom()\n",
    "    crop = image[y1:y2+1, x1:x2+1]\n",
    "    plt.imshow(crop)\n",
    "    plt.show()"
   ]
  },
  {
   "cell_type": "code",
   "execution_count": null,
   "metadata": {},
   "outputs": [],
   "source": [
    "predictor_path = osp.join(DLIB_DIR, 'shape_predictor_68_face_landmarks.dat')\n",
    "predictor = dlib.shape_predictor(predictor_path)\n",
    "\n",
    "for face in faces:\n",
    "    shape = predictor(img, face)\n",
    "    points = np.zeros((68, 2), dtype=np.int32)\n",
    "    for i in range(68):\n",
    "        points[i] = np.array([shape.part(i).x, shape.part(i).y])\n",
    "    plt.scatter(points[:, 0], points[:, 1], s=10, marker='.', c='r')\n",
    "plt.imshow(img)\n",
    "plt.show()"
   ]
  },
  {
   "cell_type": "code",
   "execution_count": null,
   "metadata": {},
   "outputs": [],
   "source": []
  }
 ],
 "metadata": {
  "kernelspec": {
   "display_name": "Python 3",
   "language": "python",
   "name": "python3"
  },
  "language_info": {
   "codemirror_mode": {
    "name": "ipython",
    "version": 3
   },
   "file_extension": ".py",
   "mimetype": "text/x-python",
   "name": "python",
   "nbconvert_exporter": "python",
   "pygments_lexer": "ipython3",
   "version": "3.6.9"
  }
 },
 "nbformat": 4,
 "nbformat_minor": 2
}
